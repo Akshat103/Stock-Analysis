{
 "cells": [
  {
   "cell_type": "code",
   "execution_count": 0,
   "metadata": {
    "application/vnd.databricks.v1+cell": {
     "cellMetadata": {
      "byteLimit": 2048000,
      "rowLimit": 10000
     },
     "inputWidgets": {},
     "nuid": "2bf4c226-97a5-4b63-a5c0-c3d5cdd9661b",
     "showTitle": false,
     "title": ""
    }
   },
   "outputs": [],
   "source": [
    "import pyspark\n",
    "from pyspark.sql import SparkSession\n",
    "from pyspark.sql.window import Window\n",
    "import pyspark.sql.functions as F"
   ]
  },
  {
   "cell_type": "code",
   "execution_count": 0,
   "metadata": {
    "application/vnd.databricks.v1+cell": {
     "cellMetadata": {
      "byteLimit": 2048000,
      "rowLimit": 10000
     },
     "inputWidgets": {},
     "nuid": "6da6c2a9-a0f4-4217-a1a0-d0c98a2a55fb",
     "showTitle": true,
     "title": "Data Exploration and Cleaning:"
    }
   },
   "outputs": [],
   "source": [
    "# Create a SparkSession\n",
    "spark = SparkSession.builder.appName(\"StockAnalysis\").getOrCreate()\n",
    "\n",
    "# Read the CSV file into a Spark DataFrame\n",
    "stock_df = spark.read.csv(\"/FileStore/tables/META.csv\", header=True, inferSchema=True)"
   ]
  },
  {
   "cell_type": "code",
   "execution_count": 0,
   "metadata": {
    "application/vnd.databricks.v1+cell": {
     "cellMetadata": {
      "byteLimit": 2048000,
      "rowLimit": 10000
     },
     "inputWidgets": {},
     "nuid": "d70cb38d-ccb8-4aa2-85ec-27c4bf0add19",
     "showTitle": false,
     "title": ""
    }
   },
   "outputs": [
    {
     "output_type": "stream",
     "name": "stdout",
     "output_type": "stream",
     "text": [
      "root\n |-- Date: date (nullable = true)\n |-- Open: double (nullable = true)\n |-- High: double (nullable = true)\n |-- Low: double (nullable = true)\n |-- Close: double (nullable = true)\n |-- Adj Close: double (nullable = true)\n |-- Volume: integer (nullable = true)\n\n+----------+---------+---------+---------+---------+---------+---------+\n|      Date|     Open|     High|      Low|    Close|Adj Close|   Volume|\n+----------+---------+---------+---------+---------+---------+---------+\n|2012-05-18|42.049999|     45.0|     38.0|    38.23|    38.23|573576400|\n|2012-05-21|36.529999|    36.66|     33.0|34.029999|34.029999|168192700|\n|2012-05-22|32.610001|    33.59|30.940001|     31.0|     31.0|101786600|\n|2012-05-23|31.370001|     32.5|31.360001|     32.0|     32.0| 73600000|\n|2012-05-24|32.950001|33.209999|    31.77|33.029999|33.029999| 50237200|\n+----------+---------+---------+---------+---------+---------+---------+\nonly showing top 5 rows\n\n"
     ]
    }
   ],
   "source": [
    "# Display the DataFrame's schema and some sample rows\n",
    "stock_df.printSchema()\n",
    "stock_df.show(5)"
   ]
  },
  {
   "cell_type": "code",
   "execution_count": 0,
   "metadata": {
    "application/vnd.databricks.v1+cell": {
     "cellMetadata": {
      "byteLimit": 2048000,
      "rowLimit": 10000
     },
     "inputWidgets": {},
     "nuid": "452b448d-a7f5-4a35-bc14-b06c40ec0dec",
     "showTitle": true,
     "title": "1. Handling Missing Values:"
    }
   },
   "outputs": [
    {
     "output_type": "stream",
     "name": "stdout",
     "output_type": "stream",
     "text": [
      "+----+----+----+---+-----+---------+------+\n|Date|Open|High|Low|Close|Adj Close|Volume|\n+----+----+----+---+-----+---------+------+\n|   0|   0|   0|  0|    0|        0|     0|\n+----+----+----+---+-----+---------+------+\n\n"
     ]
    }
   ],
   "source": [
    "# Check for missing values in each column\n",
    "stock_df.select([F.count(F.when(F.col(c).isNull(), c)).alias(c) for c in stock_df.columns]).show()"
   ]
  },
  {
   "cell_type": "code",
   "execution_count": 0,
   "metadata": {
    "application/vnd.databricks.v1+cell": {
     "cellMetadata": {
      "byteLimit": 2048000,
      "rowLimit": 10000
     },
     "inputWidgets": {},
     "nuid": "edc8e092-8e87-43d7-82f0-d2b30acdb82c",
     "showTitle": true,
     "title": "2. Identifying and Handling Outliers:"
    }
   },
   "outputs": [
    {
     "output_type": "stream",
     "name": "stdout",
     "output_type": "stream",
     "text": [
      "+-------+------------------+------------------+------------------+------------------+------------------+--------------------+\n|summary|              Open|              High|               Low|             Close|         Adj Close|              Volume|\n+-------+------------------+------------------+------------------+------------------+------------------+--------------------+\n|  count|              2906|              2906|              2906|              2906|              2906|                2906|\n|   mean|156.55016523743973|158.58377143805927|154.57269793358543|156.61481418891952|156.61481418891952|3.0686863454920854E7|\n| stddev| 90.03938994169701|   91.194870854983| 88.93687407308715|  90.0821560481394|  90.0821560481394|2.6423894750016544E7|\n|    min|             18.08|             18.27|         17.549999|             17.73|             17.73|             5467500|\n|    max|        381.679993|        384.329987|        378.809998|        382.179993|        382.179993|           573576400|\n+-------+------------------+------------------+------------------+------------------+------------------+--------------------+\n\n"
     ]
    }
   ],
   "source": [
    "# Calculate descriptive statistics to identify potential outliers\n",
    "stock_df.describe().show()"
   ]
  },
  {
   "cell_type": "code",
   "execution_count": 0,
   "metadata": {
    "application/vnd.databricks.v1+cell": {
     "cellMetadata": {
      "byteLimit": 2048000,
      "rowLimit": 10000
     },
     "inputWidgets": {},
     "nuid": "5f0b74a1-62ef-4374-9814-9bfa5842ed98",
     "showTitle": false,
     "title": ""
    }
   },
   "outputs": [
    {
     "output_type": "stream",
     "name": "stdout",
     "output_type": "stream",
     "text": [
      "Out[7]: array([[<AxesSubplot:title={'center':'Open'}>,\n        <AxesSubplot:title={'center':'Close'}>]], dtype=object)"
     ]
    },
    {
     "output_type": "display_data",
     "data": {
      "image/png": "[encoded data removed]"
     },
     "metadata": {
      "application/vnd.databricks.v1+output": {
       "addedWidgets": {},
       "arguments": {},
       "data": "data:image/png;base64,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\n",
       "datasetInfos": [],
       "metadata": {},
       "removedWidgets": [],
       "type": "image"
      }
     },
     "output_type": "display_data"
    }
   ],
   "source": [
    "# Visualize distributions to examine outliers\n",
    "stock_df.select(\"Open\", \"Close\").toPandas().hist()"
   ]
  },
  {
   "cell_type": "code",
   "execution_count": 0,
   "metadata": {
    "application/vnd.databricks.v1+cell": {
     "cellMetadata": {
      "byteLimit": 2048000,
      "rowLimit": 10000
     },
     "inputWidgets": {},
     "nuid": "0b85203d-ca61-43d8-a7b4-5a4926b04dc4",
     "showTitle": false,
     "title": ""
    }
   },
   "outputs": [],
   "source": [
    "# Cap extreme values in \"Close\" at 3 standard deviations from the mean\n",
    "max_close = stock_df.agg(F.mean(\"Close\") + 3 * F.stddev(\"Close\")).first()[0]\n",
    "stock_df = stock_df.withColumn(\"Close\", F.when(F.col(\"Close\") > max_close, max_close).otherwise(F.col(\"Close\")))"
   ]
  },
  {
   "cell_type": "code",
   "execution_count": 0,
   "metadata": {
    "application/vnd.databricks.v1+cell": {
     "cellMetadata": {
      "byteLimit": 2048000,
      "rowLimit": 10000
     },
     "inputWidgets": {},
     "nuid": "9db29b87-f3d9-4065-9c91-c96a1c56fdca",
     "showTitle": false,
     "title": ""
    }
   },
   "outputs": [
    {
     "output_type": "stream",
     "name": "stdout",
     "output_type": "stream",
     "text": [
      "root\n |-- Date: date (nullable = true)\n |-- Open: double (nullable = true)\n |-- High: double (nullable = true)\n |-- Low: double (nullable = true)\n |-- Close: double (nullable = true)\n |-- Adj Close: double (nullable = true)\n |-- Volume: integer (nullable = true)\n\n+----------+---------+---------+---------+---------+---------+---------+\n|      Date|     Open|     High|      Low|    Close|Adj Close|   Volume|\n+----------+---------+---------+---------+---------+---------+---------+\n|2012-05-18|42.049999|     45.0|     38.0|    38.23|    38.23|573576400|\n|2012-05-21|36.529999|    36.66|     33.0|34.029999|34.029999|168192700|\n|2012-05-22|32.610001|    33.59|30.940001|     31.0|     31.0|101786600|\n|2012-05-23|31.370001|     32.5|31.360001|     32.0|     32.0| 73600000|\n|2012-05-24|32.950001|33.209999|    31.77|33.029999|33.029999| 50237200|\n+----------+---------+---------+---------+---------+---------+---------+\nonly showing top 5 rows\n\n"
     ]
    }
   ],
   "source": [
    "# Display the DataFrame's schema and some sample rows\n",
    "stock_df.printSchema()\n",
    "stock_df.show(5)"
   ]
  },
  {
   "cell_type": "code",
   "execution_count": 0,
   "metadata": {
    "application/vnd.databricks.v1+cell": {
     "cellMetadata": {
      "byteLimit": 2048000,
      "rowLimit": 10000
     },
     "inputWidgets": {},
     "nuid": "a5ad53ef-788d-460e-820f-f4049d02735d",
     "showTitle": true,
     "title": "3. PySpark SQL"
    }
   },
   "outputs": [
    {
     "output_type": "stream",
     "name": "stdout",
     "output_type": "stream",
     "text": [
      "+----------+---------+---------+\n|      Date|    Close|   Volume|\n+----------+---------+---------+\n|2012-05-18|    38.23|573576400|\n|2012-05-21|34.029999|168192700|\n|2012-05-22|     31.0|101786600|\n|2012-05-23|     32.0| 73600000|\n|2012-05-24|33.029999| 50237200|\n+----------+---------+---------+\nonly showing top 5 rows\n\n"
     ]
    }
   ],
   "source": [
    "selected_data = stock_df.select(\"Date\", \"Close\", \"Volume\")\n",
    "selected_data.show(5)"
   ]
  },
  {
   "cell_type": "code",
   "execution_count": 0,
   "metadata": {
    "application/vnd.databricks.v1+cell": {
     "cellMetadata": {
      "byteLimit": 2048000,
      "rowLimit": 10000
     },
     "inputWidgets": {},
     "nuid": "52583c86-7104-43e1-a6f8-f9f9483362f7",
     "showTitle": true,
     "title": " Filter Rows:"
    }
   },
   "outputs": [
    {
     "output_type": "stream",
     "name": "stdout",
     "output_type": "stream",
     "text": [
      "+----------+----------+----------+----------+----------+----------+--------+\n|      Date|      Open|      High|       Low|     Close| Adj Close|  Volume|\n+----------+----------+----------+----------+----------+----------+--------+\n|2015-10-23|101.910004|102.849998|100.160004|102.190002|102.190002|42809700|\n|2015-10-26|102.199997|103.809998|101.550003|103.769997|103.769997|25961200|\n|2015-10-27|102.940002|104.099998|102.400002|103.699997|103.699997|23795500|\n|2015-10-28|103.900002|104.480003|102.919998|104.199997|104.199997|24081500|\n|2015-10-29|103.959999|105.120003|103.519997|104.879997|104.879997|20316700|\n+----------+----------+----------+----------+----------+----------+--------+\nonly showing top 5 rows\n\n"
     ]
    }
   ],
   "source": [
    "filtered_data = stock_df.filter(stock_df.High > 100)\n",
    "filtered_data.show(5)"
   ]
  },
  {
   "cell_type": "code",
   "execution_count": 0,
   "metadata": {
    "application/vnd.databricks.v1+cell": {
     "cellMetadata": {
      "byteLimit": 2048000,
      "rowLimit": 10000
     },
     "inputWidgets": {},
     "nuid": "e78a15e7-2b39-459b-9de9-62e2b3de9583",
     "showTitle": true,
     "title": "Order Data:"
    }
   },
   "outputs": [
    {
     "output_type": "stream",
     "name": "stdout",
     "output_type": "stream",
     "text": [
      "+----------+----------+----------+----------+----------+----------+--------+\n|      Date|      Open|      High|       Low|     Close| Adj Close|  Volume|\n+----------+----------+----------+----------+----------+----------+--------+\n|2023-12-05|318.980011|321.880005|315.390015|318.290009|318.290009|16926700|\n|2023-12-04|317.290009|320.859985|313.660004|320.019989|320.019989|19037100|\n|2023-12-01|325.480011|326.859985| 320.76001|324.820007|324.820007|15264700|\n|2023-11-30|331.890015|     333.5|322.399994|327.149994|327.149994|23146400|\n|2023-11-29|339.690002|339.899994|330.779999|332.200012|332.200012|16024500|\n+----------+----------+----------+----------+----------+----------+--------+\nonly showing top 5 rows\n\n"
     ]
    }
   ],
   "source": [
    "ordered_data = stock_df.orderBy(\"Date\", ascending=False)\n",
    "ordered_data.show(5)"
   ]
  },
  {
   "cell_type": "code",
   "execution_count": 0,
   "metadata": {
    "application/vnd.databricks.v1+cell": {
     "cellMetadata": {
      "byteLimit": 2048000,
      "rowLimit": 10000
     },
     "inputWidgets": {},
     "nuid": "76501c02-07a9-4328-baef-b077458c8c04",
     "showTitle": true,
     "title": " Calculate Simple Moving Average:"
    }
   },
   "outputs": [
    {
     "output_type": "stream",
     "name": "stdout",
     "output_type": "stream",
     "text": [
      "+----------+---------+---------+---------+---------+---------+---------+-----------------+\n|      Date|     Open|     High|      Low|    Close|Adj Close|   Volume|     RollingAvg20|\n+----------+---------+---------+---------+---------+---------+---------+-----------------+\n|2012-05-18|42.049999|     45.0|     38.0|    38.23|    38.23|573576400|            38.23|\n|2012-05-21|36.529999|    36.66|     33.0|34.029999|34.029999|168192700|       36.1299995|\n|2012-05-22|32.610001|    33.59|30.940001|     31.0|     31.0|101786600|34.41999966666666|\n|2012-05-23|31.370001|     32.5|31.360001|     32.0|     32.0| 73600000|      33.81499975|\n|2012-05-24|32.950001|33.209999|    31.77|33.029999|33.029999| 50237200|       33.6579996|\n+----------+---------+---------+---------+---------+---------+---------+-----------------+\nonly showing top 5 rows\n\n"
     ]
    }
   ],
   "source": [
    "from pyspark.sql.window import Window\n",
    "from pyspark.sql.functions import avg\n",
    "windowSpec = Window.partitionBy().orderBy(\"Date\")\n",
    "rolling_avg_20 = avg(stock_df[\"Close\"]).over(windowSpec.rowsBetween(-19, 0))\n",
    "stock_df_with_avg = stock_df.withColumn(\"RollingAvg20\", rolling_avg_20)\n",
    "stock_df_with_avg.show(5)"
   ]
  },
  {
   "cell_type": "code",
   "execution_count": 0,
   "metadata": {
    "application/vnd.databricks.v1+cell": {
     "cellMetadata": {
      "byteLimit": 2048000,
      "rowLimit": 10000
     },
     "inputWidgets": {},
     "nuid": "c48d66aa-93ad-460c-a02c-cf6eb8094a9e",
     "showTitle": true,
     "title": "Calculate Daily Returns:"
    }
   },
   "outputs": [
    {
     "output_type": "stream",
     "name": "stdout",
     "output_type": "stream",
     "text": [
      "+----------+---------+---------+---------+---------+---------+---------+--------------------+\n|      Date|     Open|     High|      Low|    Close|Adj Close|   Volume|         DailyReturn|\n+----------+---------+---------+---------+---------+---------+---------+--------------------+\n|2012-05-18|42.049999|     45.0|     38.0|    38.23|    38.23|573576400|-0.09084421143505861|\n|2012-05-21|36.529999|    36.66|     33.0|34.029999|34.029999|168192700|-0.06843690305055854|\n|2012-05-22|32.610001|    33.59|30.940001|     31.0|     31.0|101786600|-0.04937138763043881|\n|2012-05-23|31.370001|     32.5|31.360001|     32.0|     32.0| 73600000| 0.02008284921635806|\n|2012-05-24|32.950001|33.209999|    31.77|33.029999|33.029999| 50237200|0.002427860320853...|\n+----------+---------+---------+---------+---------+---------+---------+--------------------+\nonly showing top 5 rows\n\n"
     ]
    }
   ],
   "source": [
    "stock_df_with_returns = stock_df.withColumn(\"DailyReturn\", (stock_df[\"Close\"] - stock_df[\"Open\"]) / stock_df[\"Open\"])\n",
    "stock_df_with_returns.show(5)"
   ]
  },
  {
   "cell_type": "code",
   "execution_count": 0,
   "metadata": {
    "application/vnd.databricks.v1+cell": {
     "cellMetadata": {
      "byteLimit": 2048000,
      "rowLimit": 10000
     },
     "inputWidgets": {},
     "nuid": "d521063b-7094-44e2-9df8-2827892acd60",
     "showTitle": true,
     "title": "Calculate Volatility:"
    }
   },
   "outputs": [
    {
     "output_type": "stream",
     "name": "stdout",
     "output_type": "stream",
     "text": [
      "+----------+---------+---------+---------+---------+---------+---------+--------------------+--------------------+\n|      Date|     Open|     High|      Low|    Close|Adj Close|   Volume|         DailyReturn|        Volatility20|\n+----------+---------+---------+---------+---------+---------+---------+--------------------+--------------------+\n|2012-05-18|42.049999|     45.0|     38.0|    38.23|    38.23|573576400|-0.09084421143505861|                null|\n|2012-05-21|36.529999|    36.66|     33.0|34.029999|34.029999|168192700|-0.06843690305055854|0.015844359706818186|\n|2012-05-22|32.610001|    33.59|30.940001|     31.0|     31.0|101786600|-0.04937138763043881|0.020758839328512364|\n|2012-05-23|31.370001|     32.5|31.360001|     32.0|     32.0| 73600000| 0.02008284921635806| 0.04791487834668569|\n|2012-05-24|32.950001|33.209999|    31.77|33.029999|33.029999| 50237200|0.002427860320853...| 0.04704592521264648|\n+----------+---------+---------+---------+---------+---------+---------+--------------------+--------------------+\nonly showing top 5 rows\n\n"
     ]
    }
   ],
   "source": [
    "from pyspark.sql.functions import stddev\n",
    "\n",
    "windowSpec = Window.partitionBy().orderBy(\"Date\")\n",
    "volatility_20 = stddev(stock_df_with_returns[\"DailyReturn\"]).over(windowSpec.rowsBetween(-19, 0))\n",
    "stock_df_with_volatility = stock_df_with_returns.withColumn(\"Volatility20\", volatility_20)\n",
    "stock_df_with_volatility.show(5)"
   ]
  },
  {
   "cell_type": "code",
   "execution_count": 0,
   "metadata": {
    "application/vnd.databricks.v1+cell": {
     "cellMetadata": {
      "byteLimit": 2048000,
      "rowLimit": 10000
     },
     "inputWidgets": {},
     "nuid": "0d42564c-c468-4ab1-92a6-6562875400c8",
     "showTitle": true,
     "title": " Extract Day of Week and Month:"
    }
   },
   "outputs": [
    {
     "output_type": "stream",
     "name": "stdout",
     "output_type": "stream",
     "text": [
      "+----------+---------+---------+---------+---------+---------+---------+---------+-----+\n|      Date|     Open|     High|      Low|    Close|Adj Close|   Volume|DayOfWeek|Month|\n+----------+---------+---------+---------+---------+---------+---------+---------+-----+\n|2012-05-18|42.049999|     45.0|     38.0|    38.23|    38.23|573576400|        6|    5|\n|2012-05-21|36.529999|    36.66|     33.0|34.029999|34.029999|168192700|        2|    5|\n|2012-05-22|32.610001|    33.59|30.940001|     31.0|     31.0|101786600|        3|    5|\n|2012-05-23|31.370001|     32.5|31.360001|     32.0|     32.0| 73600000|        4|    5|\n|2012-05-24|32.950001|33.209999|    31.77|33.029999|33.029999| 50237200|        5|    5|\n+----------+---------+---------+---------+---------+---------+---------+---------+-----+\nonly showing top 5 rows\n\n"
     ]
    }
   ],
   "source": [
    "from pyspark.sql.functions import dayofweek, month\n",
    "\n",
    "stock_df_with_date_info = stock_df.withColumn(\"DayOfWeek\", dayofweek(\"Date\")).withColumn(\"Month\", month(\"Date\"))\n",
    "stock_df_with_date_info.show(5)"
   ]
  },
  {
   "cell_type": "code",
   "execution_count": 0,
   "metadata": {
    "application/vnd.databricks.v1+cell": {
     "cellMetadata": {
      "byteLimit": 2048000,
      "rowLimit": 10000
     },
     "inputWidgets": {},
     "nuid": "91e0a8a0-9da6-42e2-9aac-4be9eebe9b96",
     "showTitle": true,
     "title": "Group and Aggregate:"
    }
   },
   "outputs": [
    {
     "output_type": "stream",
     "name": "stdout",
     "output_type": "stream",
     "text": [
      "+-----+------------------+\n|Month|        avg(Close)|\n+-----+------------------+\n|   12| 151.0721365085471|\n|    1| 149.9202691883408|\n|    6|156.35078439607838|\n|    3| 148.3014936141078|\n|    5|156.22979345454544|\n+-----+------------------+\nonly showing top 5 rows\n\n"
     ]
    }
   ],
   "source": [
    "monthly_averages = stock_df_with_date_info.groupBy(\"Month\").agg(avg(\"Close\"))\n",
    "monthly_averages.show(5)"
   ]
  },
  {
   "cell_type": "code",
   "execution_count": 0,
   "metadata": {
    "application/vnd.databricks.v1+cell": {
     "cellMetadata": {
      "byteLimit": 2048000,
      "rowLimit": 10000
     },
     "inputWidgets": {},
     "nuid": "91004794-828c-4c8a-8eca-f87a013e3592",
     "showTitle": true,
     "title": "Join DataFrames:"
    }
   },
   "outputs": [
    {
     "output_type": "stream",
     "name": "stdout",
     "output_type": "stream",
     "text": [
      "+----------+---------+---------+---------+---------+---------+---------+---------+-----+--------------------+\n|      Date|     Open|     High|      Low|    Close|Adj Close|   Volume|DayOfWeek|Month|         DailyReturn|\n+----------+---------+---------+---------+---------+---------+---------+---------+-----+--------------------+\n|2012-05-18|42.049999|     45.0|     38.0|    38.23|    38.23|573576400|        6|    5|-0.09084421143505861|\n|2012-05-21|36.529999|    36.66|     33.0|34.029999|34.029999|168192700|        2|    5|-0.06843690305055854|\n|2012-05-22|32.610001|    33.59|30.940001|     31.0|     31.0|101786600|        3|    5|-0.04937138763043881|\n|2012-05-23|31.370001|     32.5|31.360001|     32.0|     32.0| 73600000|        4|    5| 0.02008284921635806|\n|2012-05-24|32.950001|33.209999|    31.77|33.029999|33.029999| 50237200|        5|    5|0.002427860320853...|\n+----------+---------+---------+---------+---------+---------+---------+---------+-----+--------------------+\nonly showing top 5 rows\n\n"
     ]
    }
   ],
   "source": [
    "join_columns = [\"Date\", \"Open\", \"High\", \"Low\", \"Close\", \"Adj Close\", \"Volume\"]\n",
    "\n",
    "joined_data = stock_df_with_date_info.join(stock_df_with_returns, on=join_columns, how=\"inner\")\n",
    "\n",
    "joined_data.show(5)"
   ]
  },
  {
   "cell_type": "code",
   "execution_count": 0,
   "metadata": {
    "application/vnd.databricks.v1+cell": {
     "cellMetadata": {
      "byteLimit": 2048000,
      "rowLimit": 10000
     },
     "inputWidgets": {},
     "nuid": "b7605a50-eb4d-45c1-b899-30b151df9361",
     "showTitle": true,
     "title": "Create Temporary Views:"
    }
   },
   "outputs": [
    {
     "output_type": "stream",
     "name": "stdout",
     "output_type": "stream",
     "text": [
      "+----------+----------+----------+----------+----------+----------+--------+---------+-----+--------------------+\n|      Date|      Open|      High|       Low|     Close| Adj Close|  Volume|DayOfWeek|Month|         DailyReturn|\n+----------+----------+----------+----------+----------+----------+--------+---------+-----+--------------------+\n|2015-10-23|101.910004|102.849998|100.160004|102.190002|102.190002|42809700|        6|   10|0.002747502590619133|\n|2015-10-26|102.199997|103.809998|101.550003|103.769997|103.769997|25961200|        2|   10|0.015362035675989379|\n|2015-10-27|102.940002|104.099998|102.400002|103.699997|103.699997|23795500|        3|   10|0.007382892803907166|\n|2015-10-28|103.900002|104.480003|102.919998|104.199997|104.199997|24081500|        4|   10|0.002887343544035693|\n|2015-10-29|103.959999|105.120003|103.519997|104.879997|104.879997|20316700|        5|   10|0.008849538369079889|\n+----------+----------+----------+----------+----------+----------+--------+---------+-----+--------------------+\nonly showing top 5 rows\n\n"
     ]
    }
   ],
   "source": [
    "joined_data.createOrReplaceTempView(\"stock_view\")\n",
    "result = spark.sql(\"SELECT * FROM stock_view WHERE Close > 100\")\n",
    "result.show(5)"
   ]
  },
  {
   "cell_type": "code",
   "execution_count": 0,
   "metadata": {
    "application/vnd.databricks.v1+cell": {
     "cellMetadata": {
      "byteLimit": 2048000,
      "rowLimit": 10000
     },
     "inputWidgets": {},
     "nuid": "0b7ccaff-8f66-4ef7-a8f3-5ea7aabd8a3c",
     "showTitle": true,
     "title": "4.  Feature Engineering: 1.  Calculating Rolling Averages:"
    }
   },
   "outputs": [],
   "source": [
    "from pyspark.sql.window import Window\n",
    "# Calculate a 20-day rolling average for closing price\n",
    "windowSpec = Window.partitionBy(\"Date\").orderBy(\"Date\").rowsBetween(-19, 0)\n",
    "stock_df = stock_df.withColumn(\"RollingAvg20\", F.avg(\"Close\").over(windowSpec))"
   ]
  },
  {
   "cell_type": "code",
   "execution_count": 0,
   "metadata": {
    "application/vnd.databricks.v1+cell": {
     "cellMetadata": {
      "byteLimit": 2048000,
      "rowLimit": 10000
     },
     "inputWidgets": {},
     "nuid": "75dcb912-2555-436e-953e-44b78b3e583e",
     "showTitle": false,
     "title": ""
    }
   },
   "outputs": [
    {
     "output_type": "stream",
     "name": "stdout",
     "output_type": "stream",
     "text": [
      "root\n |-- Date: date (nullable = true)\n |-- Open: double (nullable = true)\n |-- High: double (nullable = true)\n |-- Low: double (nullable = true)\n |-- Close: double (nullable = true)\n |-- Adj Close: double (nullable = true)\n |-- Volume: integer (nullable = true)\n |-- RollingAvg20: double (nullable = true)\n\n+----------+---------+---------+---------+---------+---------+---------+------------+\n|      Date|     Open|     High|      Low|    Close|Adj Close|   Volume|RollingAvg20|\n+----------+---------+---------+---------+---------+---------+---------+------------+\n|2012-05-18|42.049999|     45.0|     38.0|    38.23|    38.23|573576400|       38.23|\n|2012-05-21|36.529999|    36.66|     33.0|34.029999|34.029999|168192700|   34.029999|\n|2012-05-22|32.610001|    33.59|30.940001|     31.0|     31.0|101786600|        31.0|\n|2012-05-23|31.370001|     32.5|31.360001|     32.0|     32.0| 73600000|        32.0|\n|2012-05-24|32.950001|33.209999|    31.77|33.029999|33.029999| 50237200|   33.029999|\n+----------+---------+---------+---------+---------+---------+---------+------------+\nonly showing top 5 rows\n\n"
     ]
    }
   ],
   "source": [
    "# Display the DataFrame's schema and some sample rows\n",
    "stock_df.printSchema()\n",
    "stock_df.show(5)"
   ]
  },
  {
   "cell_type": "code",
   "execution_count": 0,
   "metadata": {
    "application/vnd.databricks.v1+cell": {
     "cellMetadata": {
      "byteLimit": 2048000,
      "rowLimit": 10000
     },
     "inputWidgets": {},
     "nuid": "8810cac4-76dc-4ec4-a645-1a511a83fa0e",
     "showTitle": true,
     "title": "2. Creating Volatility Features:"
    }
   },
   "outputs": [],
   "source": [
    "# Create a new column for lagged \"Close\" values\n",
    "stock_df = stock_df.withColumn(\"CloseLag1\", F.lag(\"Close\", 1).over(Window.orderBy(\"Date\")))\n",
    "\n",
    "# Calculate daily return\n",
    "stock_df = stock_df.withColumn(\"DailyReturn\", (F.col(\"Close\") - F.col(\"CloseLag1\")) / F.col(\"CloseLag1\"))\n",
    "\n",
    "# Calculate 20-day standard deviation of daily returns\n",
    "windowSpec = Window.orderBy(\"Date\").rowsBetween(-19, 0)\n",
    "stock_df = stock_df.withColumn(\"Volatility20\", F.stddev(\"DailyReturn\").over(windowSpec))\n",
    "\n",
    "# Drop the intermediate column \"CloseLag1\" as we don't need it anymore\n",
    "stock_df = stock_df.drop(\"CloseLag1\")"
   ]
  },
  {
   "cell_type": "code",
   "execution_count": 0,
   "metadata": {
    "application/vnd.databricks.v1+cell": {
     "cellMetadata": {
      "byteLimit": 2048000,
      "rowLimit": 10000
     },
     "inputWidgets": {},
     "nuid": "eab1c7ff-7078-4bc4-b197-7a0a8695cf90",
     "showTitle": false,
     "title": ""
    }
   },
   "outputs": [
    {
     "output_type": "stream",
     "name": "stdout",
     "output_type": "stream",
     "text": [
      "root\n |-- Date: date (nullable = true)\n |-- Open: double (nullable = true)\n |-- High: double (nullable = true)\n |-- Low: double (nullable = true)\n |-- Close: double (nullable = true)\n |-- Adj Close: double (nullable = true)\n |-- Volume: integer (nullable = true)\n |-- RollingAvg20: double (nullable = true)\n |-- DailyReturn: double (nullable = true)\n |-- Volatility20: double (nullable = true)\n\n+----------+---------+---------+---------+---------+---------+---------+------------+--------------------+--------------------+\n|      Date|     Open|     High|      Low|    Close|Adj Close|   Volume|RollingAvg20|         DailyReturn|        Volatility20|\n+----------+---------+---------+---------+---------+---------+---------+------------+--------------------+--------------------+\n|2012-05-18|42.049999|     45.0|     38.0|    38.23|    38.23|573576400|       38.23|                null|                null|\n|2012-05-21|36.529999|    36.66|     33.0|34.029999|34.029999|168192700|   34.029999|-0.10986139157729534|                null|\n|2012-05-22|32.610001|    33.59|30.940001|     31.0|     31.0|101786600|        31.0|-0.08903905639256694|0.014723614409260692|\n|2012-05-23|31.370001|     32.5|31.360001|     32.0|     32.0| 73600000|        32.0| 0.03225806451612903| 0.07675122255657645|\n|2012-05-24|32.950001|33.209999|    31.77|33.029999|33.029999| 50237200|   33.029999| 0.03218746874999989| 0.07649523682652938|\n+----------+---------+---------+---------+---------+---------+---------+------------+--------------------+--------------------+\nonly showing top 5 rows\n\n"
     ]
    }
   ],
   "source": [
    "# Display the DataFrame's schema and some sample rows\n",
    "stock_df.printSchema()\n",
    "stock_df.show(5)"
   ]
  },
  {
   "cell_type": "code",
   "execution_count": 0,
   "metadata": {
    "application/vnd.databricks.v1+cell": {
     "cellMetadata": {
      "byteLimit": 2048000,
      "rowLimit": 10000
     },
     "inputWidgets": {},
     "nuid": "7801093d-c2c6-448d-bfd5-f8ca64986256",
     "showTitle": true,
     "title": "3. Extracting Day-of-Week and Month Features:"
    }
   },
   "outputs": [],
   "source": [
    "from pyspark.sql.functions import dayofweek, month\n",
    "stock_df = stock_df.withColumn(\"DayOfWeek\", dayofweek(\"Date\"))\n",
    "stock_df = stock_df.withColumn(\"Month\", month(\"Date\"))"
   ]
  },
  {
   "cell_type": "code",
   "execution_count": 0,
   "metadata": {
    "application/vnd.databricks.v1+cell": {
     "cellMetadata": {
      "byteLimit": 2048000,
      "rowLimit": 10000
     },
     "inputWidgets": {},
     "nuid": "1aa29465-1bb4-4459-b494-cb9179c1c384",
     "showTitle": false,
     "title": ""
    }
   },
   "outputs": [
    {
     "output_type": "stream",
     "name": "stdout",
     "output_type": "stream",
     "text": [
      "root\n |-- Date: date (nullable = true)\n |-- Open: double (nullable = true)\n |-- High: double (nullable = true)\n |-- Low: double (nullable = true)\n |-- Close: double (nullable = true)\n |-- Adj Close: double (nullable = true)\n |-- Volume: integer (nullable = true)\n |-- RollingAvg20: double (nullable = true)\n |-- DailyReturn: double (nullable = true)\n |-- Volatility20: double (nullable = true)\n |-- DayOfWeek: integer (nullable = true)\n |-- Month: integer (nullable = true)\n\n+----------+---------+---------+---------+---------+---------+---------+------------+--------------------+--------------------+---------+-----+\n|      Date|     Open|     High|      Low|    Close|Adj Close|   Volume|RollingAvg20|         DailyReturn|        Volatility20|DayOfWeek|Month|\n+----------+---------+---------+---------+---------+---------+---------+------------+--------------------+--------------------+---------+-----+\n|2012-05-18|42.049999|     45.0|     38.0|    38.23|    38.23|573576400|       38.23|                null|                null|        6|    5|\n|2012-05-21|36.529999|    36.66|     33.0|34.029999|34.029999|168192700|   34.029999|-0.10986139157729534|                null|        2|    5|\n|2012-05-22|32.610001|    33.59|30.940001|     31.0|     31.0|101786600|        31.0|-0.08903905639256694|0.014723614409260692|        3|    5|\n|2012-05-23|31.370001|     32.5|31.360001|     32.0|     32.0| 73600000|        32.0| 0.03225806451612903| 0.07675122255657645|        4|    5|\n|2012-05-24|32.950001|33.209999|    31.77|33.029999|33.029999| 50237200|   33.029999| 0.03218746874999989| 0.07649523682652938|        5|    5|\n+----------+---------+---------+---------+---------+---------+---------+------------+--------------------+--------------------+---------+-----+\nonly showing top 5 rows\n\n"
     ]
    }
   ],
   "source": [
    "# Display the DataFrame's schema and some sample rows\n",
    "stock_df.printSchema()\n",
    "stock_df.show(5)"
   ]
  },
  {
   "cell_type": "code",
   "execution_count": 0,
   "metadata": {
    "application/vnd.databricks.v1+cell": {
     "cellMetadata": {
      "byteLimit": 2048000,
      "rowLimit": 10000
     },
     "inputWidgets": {},
     "nuid": "11bbcae9-56cc-415e-86bd-54f2581ef6c4",
     "showTitle": true,
     "title": "4. Calculating Technical Indicators:"
    }
   },
   "outputs": [],
   "source": [
    "# Calculate short-term EMA\n",
    "short_window = 12\n",
    "stock_df = stock_df.withColumn(\"ShortEMA\", F.avg(\"Close\").over(Window.orderBy(\"Date\").rowsBetween(-short_window+1, 0)))"
   ]
  },
  {
   "cell_type": "code",
   "execution_count": 0,
   "metadata": {
    "application/vnd.databricks.v1+cell": {
     "cellMetadata": {
      "byteLimit": 2048000,
      "rowLimit": 10000
     },
     "inputWidgets": {},
     "nuid": "cd85669b-2f5a-4d29-8904-3a014f48f5c7",
     "showTitle": false,
     "title": ""
    }
   },
   "outputs": [],
   "source": [
    "# Calculate long-term EMA\n",
    "long_window = 26\n",
    "stock_df = stock_df.withColumn(\"LongEMA\", F.avg(\"Close\").over(Window.orderBy(\"Date\").rowsBetween(-long_window+1, 0)))"
   ]
  },
  {
   "cell_type": "code",
   "execution_count": 0,
   "metadata": {
    "application/vnd.databricks.v1+cell": {
     "cellMetadata": {
      "byteLimit": 2048000,
      "rowLimit": 10000
     },
     "inputWidgets": {},
     "nuid": "5b766709-51bf-44b5-90be-eb4de6303739",
     "showTitle": false,
     "title": ""
    }
   },
   "outputs": [],
   "source": [
    "# Calculate MACD\n",
    "stock_df = stock_df.withColumn(\"MACD\", F.col(\"ShortEMA\") - F.col(\"LongEMA\"))"
   ]
  },
  {
   "cell_type": "code",
   "execution_count": 0,
   "metadata": {
    "application/vnd.databricks.v1+cell": {
     "cellMetadata": {
      "byteLimit": 2048000,
      "rowLimit": 10000
     },
     "inputWidgets": {},
     "nuid": "ac4d96ad-5559-45fd-939e-7ad7be40d51e",
     "showTitle": false,
     "title": ""
    }
   },
   "outputs": [],
   "source": [
    "# Calculate Signal Line (9-day EMA of MACD)\n",
    "signal_window = 9\n",
    "stock_df = stock_df.withColumn(\"SignalLine\", F.avg(\"MACD\").over(Window.orderBy(\"Date\").rowsBetween(-signal_window+1, 0)))"
   ]
  },
  {
   "cell_type": "code",
   "execution_count": 0,
   "metadata": {
    "application/vnd.databricks.v1+cell": {
     "cellMetadata": {
      "byteLimit": 2048000,
      "rowLimit": 10000
     },
     "inputWidgets": {},
     "nuid": "75d3db83-c6e9-49a9-b009-e0719ce94117",
     "showTitle": false,
     "title": ""
    }
   },
   "outputs": [
    {
     "output_type": "stream",
     "name": "stdout",
     "output_type": "stream",
     "text": [
      "root\n |-- Date: date (nullable = true)\n |-- Open: double (nullable = true)\n |-- High: double (nullable = true)\n |-- Low: double (nullable = true)\n |-- Close: double (nullable = true)\n |-- Adj Close: double (nullable = true)\n |-- Volume: integer (nullable = true)\n |-- RollingAvg20: double (nullable = true)\n |-- DailyReturn: double (nullable = true)\n |-- Volatility20: double (nullable = true)\n |-- DayOfWeek: integer (nullable = true)\n |-- Month: integer (nullable = true)\n |-- ShortEMA: double (nullable = true)\n |-- LongEMA: double (nullable = true)\n |-- MACD: double (nullable = true)\n |-- SignalLine: double (nullable = true)\n\n+----------+---------+---------+---------+---------+---------+---------+------------+--------------------+--------------------+---------+-----+-----------------+-----------------+----+----------+\n|      Date|     Open|     High|      Low|    Close|Adj Close|   Volume|RollingAvg20|         DailyReturn|        Volatility20|DayOfWeek|Month|         ShortEMA|          LongEMA|MACD|SignalLine|\n+----------+---------+---------+---------+---------+---------+---------+------------+--------------------+--------------------+---------+-----+-----------------+-----------------+----+----------+\n|2012-05-18|42.049999|     45.0|     38.0|    38.23|    38.23|573576400|       38.23|                null|                null|        6|    5|            38.23|            38.23| 0.0|       0.0|\n|2012-05-21|36.529999|    36.66|     33.0|34.029999|34.029999|168192700|   34.029999|-0.10986139157729534|                null|        2|    5|       36.1299995|       36.1299995| 0.0|       0.0|\n|2012-05-22|32.610001|    33.59|30.940001|     31.0|     31.0|101786600|        31.0|-0.08903905639256694|0.014723614409260692|        3|    5|34.41999966666666|34.41999966666666| 0.0|       0.0|\n|2012-05-23|31.370001|     32.5|31.360001|     32.0|     32.0| 73600000|        32.0| 0.03225806451612903| 0.07675122255657645|        4|    5|      33.81499975|      33.81499975| 0.0|       0.0|\n|2012-05-24|32.950001|33.209999|    31.77|33.029999|33.029999| 50237200|   33.029999| 0.03218746874999989| 0.07649523682652938|        5|    5|       33.6579996|       33.6579996| 0.0|       0.0|\n+----------+---------+---------+---------+---------+---------+---------+------------+--------------------+--------------------+---------+-----+-----------------+-----------------+----+----------+\nonly showing top 5 rows\n\n"
     ]
    }
   ],
   "source": [
    "# Display the DataFrame's schema and some sample rows\n",
    "stock_df.printSchema()\n",
    "stock_df.show(5)"
   ]
  },
  {
   "cell_type": "code",
   "execution_count": 0,
   "metadata": {
    "application/vnd.databricks.v1+cell": {
     "cellMetadata": {
      "byteLimit": 2048000,
      "rowLimit": 10000
     },
     "inputWidgets": {},
     "nuid": "ec65da2f-b07c-4c3f-ade9-29f55ac6868d",
     "showTitle": true,
     "title": "5. Creating Custom Features:"
    }
   },
   "outputs": [],
   "source": [
    "# Create lagged columns in the original DataFrame\n",
    "lag_window = Window.orderBy(\"Date\")\n",
    "stock_df = stock_df.withColumn(\"LaggedClose\", F.lag(\"Close\", 5).over(lag_window).alias(\"LaggedClose\"))\n",
    "stock_df = stock_df.withColumn(\"LaggedVolume\", F.lag(\"Volume\", 5).over(lag_window).alias(\"LaggedVolume\"))"
   ]
  },
  {
   "cell_type": "code",
   "execution_count": 0,
   "metadata": {
    "application/vnd.databricks.v1+cell": {
     "cellMetadata": {
      "byteLimit": 2048000,
      "rowLimit": 10000
     },
     "inputWidgets": {},
     "nuid": "a925d7b0-c87c-4832-a217-135d6bb5f5b3",
     "showTitle": false,
     "title": ""
    }
   },
   "outputs": [],
   "source": [
    "# Create a feature indicating strong uptrend days\n",
    "stock_df = stock_df.withColumn(\"StrongUptrend\", (F.col(\"Close\") > F.lag(\"Close\", 5).over(lag_window) * 1.05) & (F.col(\"Volume\") > F.lag(\"Volume\", 5).over(lag_window) * 1.2))"
   ]
  },
  {
   "cell_type": "code",
   "execution_count": 0,
   "metadata": {
    "application/vnd.databricks.v1+cell": {
     "cellMetadata": {
      "byteLimit": 2048000,
      "rowLimit": 10000
     },
     "inputWidgets": {},
     "nuid": "bf8a7570-4282-47eb-ab29-a541b4a8c937",
     "showTitle": false,
     "title": ""
    }
   },
   "outputs": [],
   "source": [
    "# Drop the columns used for lagging, if needed\n",
    "stock_df = stock_df.drop(\"LaggedClose\", \"LaggedVolume\")"
   ]
  },
  {
   "cell_type": "code",
   "execution_count": 0,
   "metadata": {
    "application/vnd.databricks.v1+cell": {
     "cellMetadata": {
      "byteLimit": 2048000,
      "rowLimit": 10000
     },
     "inputWidgets": {},
     "nuid": "03868f0d-a0aa-4b9c-97de-465dc9df49eb",
     "showTitle": false,
     "title": ""
    }
   },
   "outputs": [
    {
     "output_type": "stream",
     "name": "stdout",
     "output_type": "stream",
     "text": [
      "root\n |-- Date: date (nullable = true)\n |-- Open: double (nullable = true)\n |-- High: double (nullable = true)\n |-- Low: double (nullable = true)\n |-- Close: double (nullable = true)\n |-- Adj Close: double (nullable = true)\n |-- Volume: integer (nullable = true)\n |-- RollingAvg20: double (nullable = true)\n |-- DailyReturn: double (nullable = true)\n |-- Volatility20: double (nullable = true)\n |-- DayOfWeek: integer (nullable = true)\n |-- Month: integer (nullable = true)\n |-- ShortEMA: double (nullable = true)\n |-- LongEMA: double (nullable = true)\n |-- MACD: double (nullable = true)\n |-- SignalLine: double (nullable = true)\n |-- StrongUptrend: boolean (nullable = true)\n\n+----------+---------+---------+---------+---------+---------+---------+------------+--------------------+--------------------+---------+-----+-----------------+-----------------+----+----------+-------------+\n|      Date|     Open|     High|      Low|    Close|Adj Close|   Volume|RollingAvg20|         DailyReturn|        Volatility20|DayOfWeek|Month|         ShortEMA|          LongEMA|MACD|SignalLine|StrongUptrend|\n+----------+---------+---------+---------+---------+---------+---------+------------+--------------------+--------------------+---------+-----+-----------------+-----------------+----+----------+-------------+\n|2012-05-18|42.049999|     45.0|     38.0|    38.23|    38.23|573576400|       38.23|                null|                null|        6|    5|            38.23|            38.23| 0.0|       0.0|         null|\n|2012-05-21|36.529999|    36.66|     33.0|34.029999|34.029999|168192700|   34.029999|-0.10986139157729534|                null|        2|    5|       36.1299995|       36.1299995| 0.0|       0.0|         null|\n|2012-05-22|32.610001|    33.59|30.940001|     31.0|     31.0|101786600|        31.0|-0.08903905639256694|0.014723614409260692|        3|    5|34.41999966666666|34.41999966666666| 0.0|       0.0|         null|\n|2012-05-23|31.370001|     32.5|31.360001|     32.0|     32.0| 73600000|        32.0| 0.03225806451612903| 0.07675122255657645|        4|    5|      33.81499975|      33.81499975| 0.0|       0.0|         null|\n|2012-05-24|32.950001|33.209999|    31.77|33.029999|33.029999| 50237200|   33.029999| 0.03218746874999989| 0.07649523682652938|        5|    5|       33.6579996|       33.6579996| 0.0|       0.0|         null|\n+----------+---------+---------+---------+---------+---------+---------+------------+--------------------+--------------------+---------+-----+-----------------+-----------------+----+----------+-------------+\nonly showing top 5 rows\n\n"
     ]
    }
   ],
   "source": [
    "# Display the DataFrame's schema and some sample rows\n",
    "stock_df.printSchema()\n",
    "stock_df.show(5)"
   ]
  },
  {
   "cell_type": "code",
   "execution_count": 0,
   "metadata": {
    "application/vnd.databricks.v1+cell": {
     "cellMetadata": {
      "byteLimit": 2048000,
      "rowLimit": 10000
     },
     "inputWidgets": {},
     "nuid": "8a108917-e71f-4e08-bbfc-f68619cef1c0",
     "showTitle": true,
     "title": "5. Time Series Analysis"
    }
   },
   "outputs": [],
   "source": [
    "stock_df = stock_df.withColumn(\"Date\", F.to_date(\"Date\"))"
   ]
  },
  {
   "cell_type": "code",
   "execution_count": 0,
   "metadata": {
    "application/vnd.databricks.v1+cell": {
     "cellMetadata": {
      "byteLimit": 2048000,
      "rowLimit": 10000
     },
     "inputWidgets": {},
     "nuid": "3932005a-630a-4b78-9467-7b59db89505d",
     "showTitle": false,
     "title": ""
    }
   },
   "outputs": [],
   "source": [
    "# 1. Rolling Average Calculation\n",
    "rolling_window = Window.orderBy(\"Date\").rowsBetween(-19, 0)\n",
    "stock_df = stock_df.withColumn(\"RollingAvgClose\", F.avg(\"Close\").over(rolling_window))"
   ]
  },
  {
   "cell_type": "code",
   "execution_count": 0,
   "metadata": {
    "application/vnd.databricks.v1+cell": {
     "cellMetadata": {
      "byteLimit": 2048000,
      "rowLimit": 10000
     },
     "inputWidgets": {},
     "nuid": "d90364af-2a05-460c-8349-03bd602921d6",
     "showTitle": false,
     "title": ""
    }
   },
   "outputs": [],
   "source": [
    "# 2. Daily Returns Calculation\n",
    "stock_df = stock_df.withColumn(\"DailyReturn\", (F.col(\"Close\") - F.lag(\"Close\").over(Window.orderBy(\"Date\"))) / F.lag(\"Close\").over(Window.orderBy(\"Date\")))"
   ]
  },
  {
   "cell_type": "code",
   "execution_count": 0,
   "metadata": {
    "application/vnd.databricks.v1+cell": {
     "cellMetadata": {
      "byteLimit": 2048000,
      "rowLimit": 10000
     },
     "inputWidgets": {},
     "nuid": "0e59e203-8ebb-4a24-9987-8e1a0a158fa4",
     "showTitle": false,
     "title": ""
    }
   },
   "outputs": [],
   "source": [
    "# 3. Autocorrelation Calculation\n",
    "autocorrelation_window = Window.orderBy(\"Date\")\n",
    "stock_df = stock_df.withColumn(\"LaggedClose\", F.lag(\"Close\").over(autocorrelation_window))\n",
    "autocorrelation = stock_df.select(\"Close\", \"LaggedClose\").na.drop()"
   ]
  },
  {
   "cell_type": "code",
   "execution_count": 0,
   "metadata": {
    "application/vnd.databricks.v1+cell": {
     "cellMetadata": {
      "byteLimit": 2048000,
      "rowLimit": 10000
     },
     "inputWidgets": {},
     "nuid": "4265fcea-2916-4aac-b197-df919741199a",
     "showTitle": false,
     "title": ""
    }
   },
   "outputs": [],
   "source": [
    "# Calculate Autocorrelation\n",
    "autocorrelation = autocorrelation.groupBy().agg(F.corr(\"Close\", \"LaggedClose\").alias(\"Autocorrelation\"))\n"
   ]
  },
  {
   "cell_type": "code",
   "execution_count": 0,
   "metadata": {
    "application/vnd.databricks.v1+cell": {
     "cellMetadata": {
      "byteLimit": 2048000,
      "rowLimit": 10000
     },
     "inputWidgets": {},
     "nuid": "09ac0d53-9c5b-4132-a0f2-a40f99ffc115",
     "showTitle": false,
     "title": ""
    }
   },
   "outputs": [
    {
     "output_type": "stream",
     "name": "stdout",
     "output_type": "stream",
     "text": [
      "root\n |-- Date: date (nullable = true)\n |-- Open: double (nullable = true)\n |-- High: double (nullable = true)\n |-- Low: double (nullable = true)\n |-- Close: double (nullable = true)\n |-- Adj Close: double (nullable = true)\n |-- Volume: integer (nullable = true)\n |-- RollingAvg20: double (nullable = true)\n |-- DailyReturn: double (nullable = true)\n |-- Volatility20: double (nullable = true)\n |-- DayOfWeek: integer (nullable = true)\n |-- Month: integer (nullable = true)\n |-- ShortEMA: double (nullable = true)\n |-- LongEMA: double (nullable = true)\n |-- MACD: double (nullable = true)\n |-- SignalLine: double (nullable = true)\n |-- StrongUptrend: boolean (nullable = true)\n |-- RollingAvgClose: double (nullable = true)\n |-- LaggedClose: double (nullable = true)\n\n+----------+---------+---------+---------+---------+---------+---------+------------+--------------------+--------------------+---------+-----+-----------------+-----------------+----+----------+-------------+-----------------+-----------+\n|      Date|     Open|     High|      Low|    Close|Adj Close|   Volume|RollingAvg20|         DailyReturn|        Volatility20|DayOfWeek|Month|         ShortEMA|          LongEMA|MACD|SignalLine|StrongUptrend|  RollingAvgClose|LaggedClose|\n+----------+---------+---------+---------+---------+---------+---------+------------+--------------------+--------------------+---------+-----+-----------------+-----------------+----+----------+-------------+-----------------+-----------+\n|2012-05-18|42.049999|     45.0|     38.0|    38.23|    38.23|573576400|       38.23|                null|                null|        6|    5|            38.23|            38.23| 0.0|       0.0|         null|            38.23|       null|\n|2012-05-21|36.529999|    36.66|     33.0|34.029999|34.029999|168192700|   34.029999|-0.10986139157729534|                null|        2|    5|       36.1299995|       36.1299995| 0.0|       0.0|         null|       36.1299995|      38.23|\n|2012-05-22|32.610001|    33.59|30.940001|     31.0|     31.0|101786600|        31.0|-0.08903905639256694|0.014723614409260692|        3|    5|34.41999966666666|34.41999966666666| 0.0|       0.0|         null|34.41999966666666|  34.029999|\n|2012-05-23|31.370001|     32.5|31.360001|     32.0|     32.0| 73600000|        32.0| 0.03225806451612903| 0.07675122255657645|        4|    5|      33.81499975|      33.81499975| 0.0|       0.0|         null|      33.81499975|       31.0|\n|2012-05-24|32.950001|33.209999|    31.77|33.029999|33.029999| 50237200|   33.029999| 0.03218746874999989| 0.07649523682652938|        5|    5|       33.6579996|       33.6579996| 0.0|       0.0|         null|       33.6579996|       32.0|\n+----------+---------+---------+---------+---------+---------+---------+------------+--------------------+--------------------+---------+-----+-----------------+-----------------+----+----------+-------------+-----------------+-----------+\nonly showing top 5 rows\n\n"
     ]
    }
   ],
   "source": [
    "# Display the DataFrame's schema and some sample rows\n",
    "stock_df.printSchema()\n",
    "stock_df.show(5)"
   ]
  },
  {
   "cell_type": "code",
   "execution_count": 0,
   "metadata": {
    "application/vnd.databricks.v1+cell": {
     "cellMetadata": {
      "byteLimit": 2048000,
      "rowLimit": 10000
     },
     "inputWidgets": {},
     "nuid": "fb496536-ab84-4bdf-9b42-342682fa5883",
     "showTitle": false,
     "title": ""
    }
   },
   "outputs": [
    {
     "output_type": "stream",
     "name": "stdout",
     "output_type": "stream",
     "text": [
      "+------------------+\n|   Autocorrelation|\n+------------------+\n|0.9988618955549502|\n+------------------+\n\n"
     ]
    }
   ],
   "source": [
    "# Display the autocorrelation results\n",
    "autocorrelation.show()"
   ]
  },
  {
   "cell_type": "code",
   "execution_count": 0,
   "metadata": {
    "application/vnd.databricks.v1+cell": {
     "cellMetadata": {
      "byteLimit": 2048000,
      "rowLimit": 10000
     },
     "inputWidgets": {},
     "nuid": "12ac2d1a-9d0d-47b3-b170-dfdc7f025310",
     "showTitle": false,
     "title": ""
    }
   },
   "outputs": [],
   "source": [
    "# Visualize Trends and Autocorrelation\n",
    "stock_df_pd = stock_df.toPandas()\n",
    "autocorrelation_pd = autocorrelation.toPandas()"
   ]
  },
  {
   "cell_type": "code",
   "execution_count": 0,
   "metadata": {
    "application/vnd.databricks.v1+cell": {
     "cellMetadata": {
      "byteLimit": 2048000,
      "rowLimit": 10000
     },
     "inputWidgets": {},
     "nuid": "bb7508d3-b1d6-4755-8ff1-626fbad9ea02",
     "showTitle": false,
     "title": ""
    }
   },
   "outputs": [
    {
     "output_type": "display_data",
     "data": {
      "image/png": "[encoded data removed]"
     },
     "metadata": {
      "application/vnd.databricks.v1+output": {
       "addedWidgets": {},
       "arguments": {},
       "data": "data:image/png;base64,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\n",
       "datasetInfos": [],
       "metadata": {},
       "removedWidgets": [],
       "type": "image"
      }
     },
     "output_type": "display_data"
    }
   ],
   "source": [
    "import matplotlib.pyplot as plt\n",
    "# Plotting Trends\n",
    "plt.figure(figsize=(12, 6))\n",
    "plt.plot(stock_df_pd[\"Date\"], stock_df_pd[\"Close\"], label=\"Close Price\")\n",
    "plt.plot(stock_df_pd[\"Date\"], stock_df_pd[\"RollingAvgClose\"], label=\"Rolling Avg Close (20 days)\")\n",
    "plt.title(\"Stock Price and Rolling Average\")\n",
    "plt.xlabel(\"Date\")\n",
    "plt.ylabel(\"Price\")\n",
    "plt.legend()\n",
    "plt.show()"
   ]
  },
  {
   "cell_type": "code",
   "execution_count": 0,
   "metadata": {
    "application/vnd.databricks.v1+cell": {
     "cellMetadata": {
      "byteLimit": 2048000,
      "rowLimit": 10000
     },
     "inputWidgets": {},
     "nuid": "011dd79b-5d3f-4425-9015-963dd6724ff2",
     "showTitle": false,
     "title": ""
    }
   },
   "outputs": [
    {
     "output_type": "display_data",
     "data": {
      "image/png": "[encoded data removed]"
     },
     "metadata": {
      "application/vnd.databricks.v1+output": {
       "addedWidgets": {},
       "arguments": {},
       "data": "data:image/png;base64,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\n",
       "datasetInfos": [],
       "metadata": {},
       "removedWidgets": [],
       "type": "image"
      }
     },
     "output_type": "display_data"
    }
   ],
   "source": [
    "# Plotting Autocorrelation\n",
    "plt.bar(range(1, len(autocorrelation_pd) + 1), autocorrelation_pd[\"Autocorrelation\"])\n",
    "plt.title(\"Autocorrelation\")\n",
    "plt.xlabel(\"Lag\")\n",
    "plt.ylabel(\"Autocorrelation\")\n",
    "plt.show()"
   ]
  },
  {
   "cell_type": "code",
   "execution_count": 0,
   "metadata": {
    "application/vnd.databricks.v1+cell": {
     "cellMetadata": {
      "byteLimit": 2048000,
      "rowLimit": 10000
     },
     "inputWidgets": {},
     "nuid": "742a33fc-6c3d-4e54-ac17-4be7bb178f8b",
     "showTitle": true,
     "title": "6. Information Gain"
    }
   },
   "outputs": [],
   "source": [
    "stock_df = stock_df.dropna()"
   ]
  },
  {
   "cell_type": "code",
   "execution_count": 0,
   "metadata": {
    "application/vnd.databricks.v1+cell": {
     "cellMetadata": {
      "byteLimit": 2048000,
      "rowLimit": 10000
     },
     "inputWidgets": {},
     "nuid": "5c9bbf78-f893-43b9-9cfd-2b1d9f39c4b1",
     "showTitle": false,
     "title": ""
    }
   },
   "outputs": [],
   "source": [
    "from pyspark.sql.functions import when, col\n",
    "stock_df = stock_df.withColumn(\"label\", when(col(\"StrongUptrend\"), 1).otherwise(0))"
   ]
  },
  {
   "cell_type": "code",
   "execution_count": 0,
   "metadata": {
    "application/vnd.databricks.v1+cell": {
     "cellMetadata": {
      "byteLimit": 2048000,
      "rowLimit": 10000
     },
     "inputWidgets": {},
     "nuid": "6070ee0c-71dd-4a27-87cf-6744a9339c1c",
     "showTitle": false,
     "title": ""
    }
   },
   "outputs": [],
   "source": [
    "from pyspark.ml.feature import VectorAssembler\n",
    "from pyspark.ml.feature import ChiSqSelector\n",
    "from pyspark.ml import Pipeline\n",
    "from pyspark.ml.classification import RandomForestClassifier\n"
   ]
  },
  {
   "cell_type": "code",
   "execution_count": 0,
   "metadata": {
    "application/vnd.databricks.v1+cell": {
     "cellMetadata": {
      "byteLimit": 2048000,
      "rowLimit": 10000
     },
     "inputWidgets": {},
     "nuid": "363ec9cc-33e0-4e49-ad5e-7fa5aa048074",
     "showTitle": false,
     "title": ""
    }
   },
   "outputs": [],
   "source": [
    "label_col = 'label'\n",
    "\n",
    "# Extracting numeric feature columns\n",
    "numeric_feature_cols = [col for col in stock_df.columns if col != label_col and 'date' not in col.lower()]"
   ]
  },
  {
   "cell_type": "code",
   "execution_count": 0,
   "metadata": {
    "application/vnd.databricks.v1+cell": {
     "cellMetadata": {
      "byteLimit": 2048000,
      "rowLimit": 10000
     },
     "inputWidgets": {},
     "nuid": "8becf39b-8be3-4f76-b554-3cc0e4da33db",
     "showTitle": false,
     "title": ""
    }
   },
   "outputs": [],
   "source": [
    "# Assemble features into a vector\n",
    "vector_assembler = VectorAssembler(inputCols=numeric_feature_cols, outputCol=\"features\")\n",
    "assembled_df = vector_assembler.transform(stock_df)"
   ]
  },
  {
   "cell_type": "code",
   "execution_count": 0,
   "metadata": {
    "application/vnd.databricks.v1+cell": {
     "cellMetadata": {
      "byteLimit": 2048000,
      "rowLimit": 10000
     },
     "inputWidgets": {},
     "nuid": "296c4a37-99a5-4ce6-9e1e-371317a8de4b",
     "showTitle": false,
     "title": ""
    }
   },
   "outputs": [],
   "source": [
    "# ChiSqSelector for feature selection\n",
    "selector = ChiSqSelector(numTopFeatures=5, featuresCol=\"features\", outputCol=\"selectedFeatures\", labelCol=label_col)\n",
    "result = selector.fit(assembled_df).transform(assembled_df)"
   ]
  },
  {
   "cell_type": "code",
   "execution_count": 0,
   "metadata": {
    "application/vnd.databricks.v1+cell": {
     "cellMetadata": {
      "byteLimit": 2048000,
      "rowLimit": 10000
     },
     "inputWidgets": {},
     "nuid": "7a826ddd-196f-40c1-987c-ad6f73ef184b",
     "showTitle": false,
     "title": ""
    }
   },
   "outputs": [],
   "source": [
    "# Train a RandomForestClassifier to get feature importances\n",
    "rf = RandomForestClassifier(labelCol=label_col, featuresCol=\"features\")\n",
    "pipeline = Pipeline(stages=[selector, rf])\n",
    "model = pipeline.fit(assembled_df)"
   ]
  },
  {
   "cell_type": "code",
   "execution_count": 0,
   "metadata": {
    "application/vnd.databricks.v1+cell": {
     "cellMetadata": {
      "byteLimit": 2048000,
      "rowLimit": 10000
     },
     "inputWidgets": {},
     "nuid": "94e431d4-b912-4482-90f2-02ed21dfd884",
     "showTitle": false,
     "title": ""
    }
   },
   "outputs": [
    {
     "output_type": "stream",
     "name": "stdout",
     "output_type": "stream",
     "text": [
      "\nFeature Importances:\nOpen: 0.002837852102987648\nHigh: 0.0021418985717758772\nLow: 0.0017697942960527208\nClose: 0.00670684199206147\nAdj Close: 0.0005555423459730302\nVolume: 0.04449370196066066\nRollingAvg20: 0.0006597889088805301\nDailyReturn: 0.05514239299498781\nVolatility20: 0.003983320134250715\nDayOfWeek: 0.0017729013700184734\nMonth: 0.0034642215662306227\nShortEMA: 0.004657435174557296\nLongEMA: 0.006600159643424618\nMACD: 0.006913256415128181\nSignalLine: 0.00922883624990764\nStrongUptrend: 0.8340834191795317\nRollingAvgClose: 0.010805571067547197\nLaggedClose: 0.004183066026023602\n"
     ]
    }
   ],
   "source": [
    "# Get feature importances\n",
    "feature_importances = model.stages[1].featureImportances\n",
    "\n",
    "# Display feature importances\n",
    "print(\"\\nFeature Importances:\")\n",
    "for i in range(len(numeric_feature_cols)):\n",
    "    print(f\"{numeric_feature_cols[i]}: {feature_importances[i]}\")"
   ]
  },
  {
   "cell_type": "code",
   "execution_count": 0,
   "metadata": {
    "application/vnd.databricks.v1+cell": {
     "cellMetadata": {
      "byteLimit": 2048000,
      "rowLimit": 10000
     },
     "inputWidgets": {},
     "nuid": "cf7e27f2-8c08-499d-b20f-58ee26af1aa4",
     "showTitle": false,
     "title": ""
    }
   },
   "outputs": [],
   "source": [
    "import matplotlib.pyplot as plt\n",
    "import numpy as np\n"
   ]
  },
  {
   "cell_type": "code",
   "execution_count": 0,
   "metadata": {
    "application/vnd.databricks.v1+cell": {
     "cellMetadata": {
      "byteLimit": 2048000,
      "rowLimit": 10000
     },
     "inputWidgets": {},
     "nuid": "ac37b16c-ca2c-4e13-b857-1d21e30f4a1a",
     "showTitle": false,
     "title": ""
    }
   },
   "outputs": [],
   "source": [
    "# Feature_importances is a SparseVector\n",
    "feature_names = numeric_feature_cols"
   ]
  },
  {
   "cell_type": "code",
   "execution_count": 0,
   "metadata": {
    "application/vnd.databricks.v1+cell": {
     "cellMetadata": {
      "byteLimit": 2048000,
      "rowLimit": 10000
     },
     "inputWidgets": {},
     "nuid": "dfefc83d-7de9-4934-862c-8f1716be9f77",
     "showTitle": false,
     "title": ""
    }
   },
   "outputs": [],
   "source": [
    "# Convert SparseVector to dense array\n",
    "dense_importances = np.array(feature_importances.toArray())"
   ]
  },
  {
   "cell_type": "code",
   "execution_count": 0,
   "metadata": {
    "application/vnd.databricks.v1+cell": {
     "cellMetadata": {
      "byteLimit": 2048000,
      "rowLimit": 10000
     },
     "inputWidgets": {},
     "nuid": "f744e3e4-9d07-4ef5-b2d0-262ac13028c5",
     "showTitle": false,
     "title": ""
    }
   },
   "outputs": [],
   "source": [
    "# Rank features based on importances\n",
    "sorted_indices = dense_importances.argsort()[::-1]\n",
    "sorted_features = [numeric_feature_cols[i] for i in sorted_indices]\n",
    "sorted_importances = dense_importances[sorted_indices]"
   ]
  },
  {
   "cell_type": "code",
   "execution_count": 0,
   "metadata": {
    "application/vnd.databricks.v1+cell": {
     "cellMetadata": {
      "byteLimit": 2048000,
      "rowLimit": 10000
     },
     "inputWidgets": {},
     "nuid": "8c5e2276-a0b6-4c35-937a-0c387c0a556a",
     "showTitle": false,
     "title": ""
    }
   },
   "outputs": [
    {
     "output_type": "display_data",
     "data": {
      "image/png": "[encoded data removed]"
     },
     "metadata": {
      "application/vnd.databricks.v1+output": {
       "addedWidgets": {},
       "arguments": {},
       "data": "data:image/png;base64,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\n",
       "datasetInfos": [],
       "metadata": {},
       "removedWidgets": [],
       "type": "image"
      }
     },
     "output_type": "display_data"
    }
   ],
   "source": [
    "# Bar chart to visualize feature importances\n",
    "plt.figure(figsize=(10, 6))\n",
    "plt.barh(range(len(sorted_features)), sorted_importances, align='center')\n",
    "plt.yticks(range(len(sorted_features)), sorted_features)\n",
    "plt.xlabel('Feature Importance')\n",
    "plt.title('Random Forest Feature Importances')\n",
    "plt.show()"
   ]
  }
 ],
 "metadata": {
  "application/vnd.databricks.v1+notebook": {
   "dashboards": [],
   "language": "python",
   "notebookMetadata": {
    "pythonIndentUnit": 4
   },
   "notebookName": "Stock Analysis",
   "widgets": {}
  }
 },
 "nbformat": 4,
 "nbformat_minor": 0
}
